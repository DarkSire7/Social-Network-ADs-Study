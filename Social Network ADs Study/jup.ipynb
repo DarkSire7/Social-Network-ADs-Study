{
 "cells": [
  {
   "cell_type": "code",
   "execution_count": 48,
   "id": "3543eb5b",
   "metadata": {
    "scrolled": false
   },
   "outputs": [
    {
     "name": "stdout",
     "output_type": "stream",
     "text": [
      "Enter age: 53\n",
      "Enter salary: 42894\n",
      "Unlikely to purchase\n"
     ]
    }
   ],
   "source": [
    "# importing the libraries required\n",
    "import pandas as pd\n",
    "from sklearn.preprocessing import StandardScaler\n",
    "import joblib\n",
    "\n",
    "# Taking the age and salary input from the user\n",
    "age = int(input('Enter age: '))\n",
    "salary = int(input('Enter salary: '))\n",
    "\n",
    "model = joblib.load(r'ad-recommender.joblib')\n",
    "\n",
    "# Predicting likelihood of purchasing based on user input\n",
    "prediction = model.predict(sc.transform([[age, salary]]))\n",
    "\n",
    "\n",
    "# Printing the likelihood\n",
    "if (prediction == 1):\n",
    "\n",
    "    print('Likely to purchase')\n",
    "\n",
    "else:\n",
    "    print('Unlikely to purchase')\n"
   ]
  },
  {
   "cell_type": "code",
   "execution_count": 47,
   "id": "f0b703a9",
   "metadata": {
    "scrolled": true
   },
   "outputs": [],
   "source": [
    "import pandas as pd\n",
    "from sklearn.tree import DecisionTreeClassifier\n",
    "from sklearn import tree\n",
    "\n",
    "# ad_data = pd.read_csv(r\"C:\\Users\\Alphaa\\Desktop/social.csv\")\n",
    "# x = ad_data.drop(columns=['Purchased'])\n",
    "# y = ad_data['Purchased']\n",
    "\n",
    "model = joblib.load(r'ad-recommender.joblib')\n",
    "# model.fit(x.values, y)\n",
    "\n",
    "# Creating a graphical representation of the decision tree\n",
    "tree.export_graphviz(model, out_file='ad-recommender.dot',\n",
    "                    feature_names=['Age', 'EstimatedSalary'],\n",
    "                    class_names=['Not-Purchased', 'Purchased'],\n",
    "                    label='all',\n",
    "                    rounded=True,\n",
    "                    filled=True)"
   ]
  },
  {
   "cell_type": "code",
   "execution_count": 46,
   "id": "56f297ef",
   "metadata": {
    "scrolled": true
   },
   "outputs": [
    {
     "data": {
      "text/plain": [
       "0.925"
      ]
     },
     "execution_count": 46,
     "metadata": {},
     "output_type": "execute_result"
    }
   ],
   "source": [
    "import pandas as pd\n",
    "from sklearn.tree import DecisionTreeClassifier\n",
    "from sklearn.model_selection import train_test_split\n",
    "from sklearn.metrics import accuracy_score\n",
    "from sklearn.preprocessing import StandardScaler\n",
    "import joblib\n",
    "\n",
    "# Importing the data from the csv file\n",
    "ad_data = pd.read_csv(r\"social.csv\")\n",
    "\n",
    "# Seperating the data into input and output, x and y respectively\n",
    "x = ad_data.drop(columns=['Purchased'])\n",
    "y = ad_data['Purchased']\n",
    "\n",
    "# Creating a train-test split\n",
    "X_train, X_test, y_train, y_test = train_test_split(x.values, y, test_size=0.2, random_state = 50)\n",
    "\n",
    "# Creating a Standard Scaler\n",
    "sc = StandardScaler()\n",
    "\n",
    "# Standardizing the values\n",
    "X_train = sc.fit_transform(X_train)\n",
    "X_test = sc.transform(X_test)\n",
    "\n",
    "# Creating a model for the decision tree\n",
    "model = DecisionTreeClassifier()\n",
    "\n",
    "# Inputting the data into the tree\n",
    "model.fit(X_train, y_train)\n",
    "\n",
    "# Saving the model so it could be used later\n",
    "joblib.dump(model, 'ad-recommender.joblib')\n",
    "\n",
    "# Predicting likelihood of purchase\n",
    "predictions = model.predict(X_test)\n",
    "\n",
    "# Measuring accuracy\n",
    "score = accuracy_score(y_test, predictions)\n",
    "score"
   ]
  }
 ],
 "metadata": {
  "kernelspec": {
   "display_name": "Python 3 (ipykernel)",
   "language": "python",
   "name": "python3"
  },
  "language_info": {
   "codemirror_mode": {
    "name": "ipython",
    "version": 3
   },
   "file_extension": ".py",
   "mimetype": "text/x-python",
   "name": "python",
   "nbconvert_exporter": "python",
   "pygments_lexer": "ipython3",
   "version": "3.11.5"
  }
 },
 "nbformat": 4,
 "nbformat_minor": 5
}
